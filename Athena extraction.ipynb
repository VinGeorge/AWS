{
 "cells": [
  {
   "cell_type": "code",
   "execution_count": 1,
   "metadata": {},
   "outputs": [],
   "source": [
    "import boto3\n",
    "import pandas as pd\n",
    "import io\n",
    "import re\n",
    "import time\n",
    "from botocore.config import Config\n",
    "import aws_athena as athena\n",
    "import numpy as np"
   ]
  },
  {
   "cell_type": "code",
   "execution_count": 373,
   "metadata": {},
   "outputs": [],
   "source": [
    "SQL_check = '''\n",
    "Select \n",
    "substr(cast(t2.period_key as varchar(8)), 5, 2) as month,\n",
    "sum(t2.sellingcountrounded) as count_all,\n",
    "sum(t1.sellingcountrounded) as count_vendor\n",
    "\n",
    "from AwsDataCatalog.\"sales_out_rus\".\"raw_aggregate_day_delta\" t1\n",
    "left join AwsDataCatalog.\"sales_out_rus\".\"raw_classifier_full\" as Classifier\n",
    "on t1.classifierid = Classifier.classifierid\n",
    "left join AwsDataCatalog.\"sales_out_rus\".\"raw_aggregate_day\" t2\n",
    "on t1.classifierid = t2.classifierid\n",
    "where t1.year = '2019'\n",
    "group by t1.classifierid, substr(cast(t2.period_key as varchar(8)), 5, 2)\n",
    "'''\n",
    "\n",
    "\n",
    "create_view= '''\n",
    "SELECT PERIOD_KEY, brickOFDId, ClassifierId, Sum_is0, SellingSumRounded, SellingCountRounded,\n",
    "year,\n",
    "month,\n",
    "day\n",
    "FROM \"sales_out_rus\".\"raw_aggregate_day_delta\" \n",
    "\n",
    "union all\n",
    "\n",
    "SELECT PERIOD_KEY,  brickOFDId, ClassifierId, Sum_is0, SellingSumRounded, SellingCountRounded,\n",
    "substr(cast(PERIOD_KEY as varchar(8)), 1, 4) as year,\n",
    "substr(cast(PERIOD_KEY as varchar(8)), 5, 2) as month,\n",
    "substr(cast(PERIOD_KEY as varchar(8)), 7) as day\n",
    "FROM \"sales_out_rus\".\"raw_aggregate_day\" \n",
    "'''\n"
   ]
  },
  {
   "cell_type": "code",
   "execution_count": 2,
   "metadata": {},
   "outputs": [],
   "source": [
    "SQL_DI = '''\n",
    "        SELECT\n",
    "            concat(DI.year, '/', DI.month, '/', DI.day) as period_key,\n",
    "            Classifier_DI.brand,\n",
    "            Classifier_DI.tradename,\n",
    "            Classifier_DI.formproduct,\n",
    "            Classifier_DI.dosagegroup,\n",
    "            Classifier_DI.consumerpackingcount,\n",
    "            Brick_FULL.l3_label as brick_l3,\n",
    "            Brick_FULL.l4_label as brick_l4,\n",
    "            DI.distribution,\n",
    "            Brick_DI.cntpharmacy\n",
    "        FROM\n",
    "            AwsDataCatalog.\"sales_out_rus\".\"raw_distribution_index_week_delta\" as DI\n",
    "        \n",
    "        LEFT JOIN AwsDataCatalog.\"sales_out_rus\".\"raw_classifierweekly_full\" as Classifier_DI\n",
    "            on DI.classifierid = Classifier_DI.classifierid\n",
    "            \n",
    "        LEFT JOIN AwsDataCatalog.\"sales_out_rus\".\"raw_brickpharmacy_week_delta\" as Brick_DI\n",
    "            on DI.bricklevel4id = Brick_DI.brickofdid \n",
    "                and DI.year = Brick_DI.year\n",
    "                and DI.month = Brick_DI.month\n",
    "                and DI.day = Brick_DI.day\n",
    "\n",
    "        LEFT JOIN AwsDataCatalog.\"sales_out_rus\".\"raw_brick_full\" as Brick_FULL\n",
    "            on Brick_DI.brickofdid = Brick_FULL.brickofdid\n",
    "        --WHERE\n",
    "            --Classifier_DI.tradename in ('Клексан') \n",
    "        '''"
   ]
  },
  {
   "cell_type": "code",
   "execution_count": 3,
   "metadata": {},
   "outputs": [],
   "source": [
    "params = {\n",
    "    'region': '******',\n",
    "    'database': '******',\n",
    "    'bucket': '******',\n",
    "    'path': '******',\n",
    "    'access_key':'******',\n",
    "    'secret_access_key': '******',\n",
    "    'https_proxy': '******',\n",
    "    'http_proxy': '******',}\n",
    "\n",
    "session = boto3.session.Session(aws_access_key_id = params['access_key'], \n",
    "                                aws_secret_access_key = params['secret_access_key'],\n",
    "                                region_name = params['region'])"
   ]
  },
  {
   "cell_type": "code",
   "execution_count": 4,
   "metadata": {},
   "outputs": [],
   "source": [
    "execution = athena.Execution(session, **params)"
   ]
  },
  {
   "cell_type": "code",
   "execution_count": 5,
   "metadata": {},
   "outputs": [
    {
     "name": "stdout",
     "output_type": "stream",
     "text": [
      "<botocore.client.Athena object at 0x0000028F44878358>\n"
     ]
    }
   ],
   "source": [
    "execution.athena_query(SQL_DI)"
   ]
  },
  {
   "cell_type": "code",
   "execution_count": 6,
   "metadata": {
    "scrolled": true
   },
   "outputs": [
    {
     "name": "stdout",
     "output_type": "stream",
     "text": [
      "{'State': 'RUNNING', 'SubmissionDateTime': datetime.datetime(2020, 4, 7, 9, 20, 51, 125000, tzinfo=tzlocal())}\n",
      "{'State': 'RUNNING', 'SubmissionDateTime': datetime.datetime(2020, 4, 7, 9, 20, 51, 125000, tzinfo=tzlocal())}\n",
      "{'State': 'RUNNING', 'SubmissionDateTime': datetime.datetime(2020, 4, 7, 9, 20, 51, 125000, tzinfo=tzlocal())}\n",
      "{'State': 'RUNNING', 'SubmissionDateTime': datetime.datetime(2020, 4, 7, 9, 20, 51, 125000, tzinfo=tzlocal())}\n",
      "{'State': 'RUNNING', 'SubmissionDateTime': datetime.datetime(2020, 4, 7, 9, 20, 51, 125000, tzinfo=tzlocal())}\n",
      "{'State': 'RUNNING', 'SubmissionDateTime': datetime.datetime(2020, 4, 7, 9, 20, 51, 125000, tzinfo=tzlocal())}\n",
      "{'State': 'SUCCEEDED', 'SubmissionDateTime': datetime.datetime(2020, 4, 7, 9, 20, 51, 125000, tzinfo=tzlocal()), 'CompletionDateTime': datetime.datetime(2020, 4, 7, 9, 20, 58, 314000, tzinfo=tzlocal())}\n"
     ]
    }
   ],
   "source": [
    "objectkey = execution.athena_to_s3()"
   ]
  },
  {
   "cell_type": "code",
   "execution_count": 7,
   "metadata": {},
   "outputs": [],
   "source": [
    "s3 = boto3.client('s3', aws_access_key_id = params['access_key'], \n",
    "                        aws_secret_access_key = params['secret_access_key'],\n",
    "                        region_name = params['region'],\n",
    "                        config=Config(proxies={\"https\": params['https_proxy'],\n",
    "                                               \"http\": params['http_proxy']}))"
   ]
  },
  {
   "cell_type": "code",
   "execution_count": 8,
   "metadata": {},
   "outputs": [],
   "source": [
    "s3.download_file(Bucket = params['bucket'],\n",
    "                 Key = '{}/{}'.format(params['bucket'], objectkey),\n",
    "                 Filename='filename.csv')"
   ]
  },
  {
   "cell_type": "code",
   "execution_count": 384,
   "metadata": {},
   "outputs": [],
   "source": [
    "obj = s3.get_object(Bucket = params['bucket'],\n",
    "                 Key = '{}/{}'.format(params['bucket'], objectkey))\n",
    "df = pd.read_csv(obj['Body'])"
   ]
  },
  {
   "cell_type": "code",
   "execution_count": 386,
   "metadata": {},
   "outputs": [],
   "source": [
    "share_url = s3.generate_presigned_url(\n",
    "ClientMethod='get_object',\n",
    "ExpiresIn=36000,\n",
    "Params={'Bucket': params['bucket'], 'Key':'{}/{}'.format(params['bucket'], objectkey)})"
   ]
  },
  {
   "cell_type": "code",
   "execution_count": null,
   "metadata": {},
   "outputs": [],
   "source": []
  }
 ],
 "metadata": {
  "kernelspec": {
   "display_name": "Python 3",
   "language": "python",
   "name": "python3"
  },
  "language_info": {
   "codemirror_mode": {
    "name": "ipython",
    "version": 3
   },
   "file_extension": ".py",
   "mimetype": "text/x-python",
   "name": "python",
   "nbconvert_exporter": "python",
   "pygments_lexer": "ipython3",
   "version": "3.7.3"
  }
 },
 "nbformat": 4,
 "nbformat_minor": 2
}
